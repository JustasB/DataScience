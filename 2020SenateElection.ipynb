{
 "cells": [
  {
   "cell_type": "markdown",
   "metadata": {},
   "source": [
    "# 2020 Senate Election Odds\n",
    "\n",
    "This notebook uses the implied state-by-state election odds from PredictIt.org and performs MonteCarlo simulations of US Senate results. The worksheet should be re-run to get the latest estimate."
   ]
  },
  {
   "cell_type": "markdown",
   "metadata": {},
   "source": [
    "## Imports"
   ]
  },
  {
   "cell_type": "code",
   "execution_count": 1,
   "metadata": {},
   "outputs": [],
   "source": [
    "#!pip install pandas matplotlib"
   ]
  },
  {
   "cell_type": "code",
   "execution_count": 2,
   "metadata": {},
   "outputs": [],
   "source": [
    "import requests\n",
    "import time\n",
    "import urllib.request\n",
    "import json\n",
    "from random import randint, random\n",
    "import re\n",
    "from matplotlib import pyplot as plt\n",
    "import pandas as pd"
   ]
  },
  {
   "cell_type": "markdown",
   "metadata": {},
   "source": [
    "## Store state electoral college votes"
   ]
  },
  {
   "cell_type": "code",
   "execution_count": 3,
   "metadata": {},
   "outputs": [],
   "source": [
    "\n",
    "\n",
    "states = {\n",
    "    'AL': { 'state':'Alabama', 'abbrev': 'AL', 'url': 6183, },\n",
    "    'AK': { 'state':'Alaska', 'abbrev': 'AK', 'url': 6688, },\n",
    "    'AZ': { 'state':'Arizona', 'abbrev': 'AZ', 'url': 5809, },\n",
    "    'AR': { 'state':'Arkansas', 'abbrev': 'AR', 'url': None, 'presumed': 'R', }, \n",
    "    'CO': { 'state':'Colorado', 'abbrev': 'CO', 'url': 5810, }, \n",
    "    'DE': { 'state':'Delaware', 'abbrev': 'DE', 'url': None, 'presumed': 'D', },\n",
    "    'GA': { 'state':'Georgia', 'abbrev': 'GA', 'url': 6651, },\n",
    "    'GA2': { 'state':'Georgia', 'abbrev': 'GA', 'url': 6567, },  # TWO IN GA\n",
    "    'ID': { 'state':'Idaho', 'abbrev': 'ID', 'url': None, 'presumed': 'R', },\n",
    "    'IL': { 'state':'Illinois', 'abbrev': 'IL', 'url': None, 'presumed': 'D', },\n",
    "    'IA': { 'state':'Iowa', 'abbrev': 'IA', 'url': 6648, },\n",
    "    'KS': { 'state':'Kansas', 'abbrev': 'KS', 'url': 5781, },\n",
    "    'KY': { 'state':'Kentucky', 'abbrev': 'KY', 'url': 6575, },\n",
    "    'LA': { 'state':'Louisiana', 'abbrev': 'LA', 'url': None,  'presumed': 'R', },\n",
    "    'ME': { 'state':'Maine', 'abbrev': 'ME', 'url': 5811, },\n",
    "    'MA': { 'state':'Massachusetts', 'abbrev': 'MA', 'url': None, 'presumed': 'D', },\n",
    "    'MI': { 'state':'Michigan', 'abbrev': 'MI', 'url': 6576, },\n",
    "    'MN': { 'state':'Minnesota', 'abbrev': 'MN', 'url': None, 'presumed': 'D', },\n",
    "    'MS': { 'state':'Mississippi', 'abbrev': 'MS', 'url': None, 'presumed': 'R', },\n",
    "    'MT': { 'state':'Montana', 'abbrev': 'MT', 'url': 6568, },\n",
    "    'NE': { 'state':'Nebraska', 'abbrev': 'NE', 'url': None, 'presumed': 'R', },\n",
    "    'NH': { 'state':'New Hampshire', 'abbrev': 'NH', 'url': None, 'presumed': 'D', },\n",
    "    'NJ': { 'state':'New Jersey', 'abbrev': 'NJ', 'url': None, 'presumed': 'D', },\n",
    "    'NM': { 'state':'New Mexico', 'abbrev': 'NM', 'url': None, 'presumed': 'D', },\n",
    "    'NC': { 'state':'North Carolina', 'abbrev': 'NC', 'url': 5808, },\n",
    "    'OK': { 'state':'Oklahoma', 'abbrev': 'OK', 'url': None,  'presumed': 'R',},\n",
    "    'OR': { 'state':'Oregon', 'abbrev': 'OR', 'url': None,  'presumed': 'D',},\n",
    "    'RI': { 'state':'Rhode Island', 'abbrev': 'RI', 'url': None, 'presumed': 'D', },\n",
    "    'SC': { 'state':'South Carolina', 'abbrev': 'SC', 'url': 6706, },\n",
    "    'SD': { 'state':'South Dakota', 'abbrev': 'SD', 'url': None,  'presumed': 'R',},\n",
    "    'TN': { 'state':'Tennessee', 'abbrev': 'TN', 'url': None,  'presumed': 'R',},\n",
    "    'TX': { 'state':'Texas', 'abbrev': 'TX', 'url': None,  'presumed': 'R',},\n",
    "    'VA': { 'state':'Virginia', 'abbrev': 'VA', 'url': None,  'presumed': 'D',},\n",
    "    'WV': { 'state':'West Virginia', 'abbrev': 'WV', 'url': None,  'presumed': 'R',},\n",
    "    'WY': { 'state':'Wyoming', 'abbrev': 'WY', 'url': None,  'presumed': 'R',},\n",
    "}"
   ]
  },
  {
   "cell_type": "markdown",
   "metadata": {},
   "source": [
    "## Pull state-by-state odds from PredictIt.org"
   ]
  },
  {
   "cell_type": "code",
   "execution_count": 4,
   "metadata": {},
   "outputs": [],
   "source": [
    "def get_api_response(url):\n",
    "    webURL = urllib.request.urlopen(url)\n",
    "    data = webURL.read()\n",
    "    encoding = webURL.info().get_content_charset('utf-8')\n",
    "    return json.loads(data.decode(encoding))"
   ]
  },
  {
   "cell_type": "code",
   "execution_count": 5,
   "metadata": {},
   "outputs": [],
   "source": [
    "# Urls are in this format: e.g. https://www.predictit.org/api/Market/5781/Contracts\n",
    "\n",
    "state_abbr = 'AK'\n",
    "\n",
    "url = 'https://www.predictit.org/api/Market/%d/Contracts' % states[state_abbr]['url']\n",
    "\n",
    "market = get_api_response(url)\n",
    "\n",
    "# Test url\n",
    "#url, market"
   ]
  },
  {
   "cell_type": "markdown",
   "metadata": {},
   "source": [
    "## Extract prices and match with full state names "
   ]
  },
  {
   "cell_type": "code",
   "execution_count": 7,
   "metadata": {},
   "outputs": [
    {
     "name": "stdout",
     "output_type": "stream",
     "text": [
      "Got AL 0.15\n",
      "Got AK 0.2\n",
      "Got AZ 0.8\n",
      "Got AR 0.1\n",
      "Got CO 0.87\n",
      "Got DE 0.9\n",
      "Got GA 0.35\n",
      "Got GA2 0.37\n",
      "Got ID 0.1\n",
      "Got IL 0.9\n",
      "Got IA 0.36\n",
      "Got KS 0.25\n",
      "Got KY 0.21\n",
      "Got LA 0.1\n",
      "Got ME 0.63\n",
      "Got MA 0.9\n",
      "Got MI 0.76\n",
      "Got MN 0.9\n",
      "Got MS 0.1\n",
      "Got MT 0.5\n",
      "Got NE 0.1\n",
      "Got NH 0.9\n",
      "Got NJ 0.9\n",
      "Got NM 0.9\n",
      "Got NC 0.62\n",
      "Got OK 0.1\n",
      "Got OR 0.9\n",
      "Got RI 0.9\n",
      "Got SC 0.18\n",
      "Got SD 0.1\n",
      "Got TN 0.1\n",
      "Got TX 0.1\n",
      "Got VA 0.9\n",
      "Got WV 0.1\n",
      "Got WY 0.1\n"
     ]
    }
   ],
   "source": [
    "state_prices = []\n",
    "for abbrev, state in states.items():\n",
    "    \n",
    "    if state['url'] is not None:\n",
    "        url = 'https://www.predictit.org/api/Market/%d/Contracts' % state['url']\n",
    "        market = get_api_response(url)\n",
    "        price = next(contract for contract in market if contract['contractName'] != 'Republican')['lastClosePrice']\n",
    "    else:\n",
    "        price = 0.9 if state['presumed'] == 'D' else 0.1\n",
    "        \n",
    "    state_prices.append({ \n",
    "        'dem_price': price, \n",
    "        'state_abbrev': state['abbrev'], \n",
    "        'state': state['state'],\n",
    "    })\n",
    "    \n",
    "    print('Got', abbrev, price)\n",
    "    time.sleep(1)    "
   ]
  },
  {
   "cell_type": "code",
   "execution_count": 8,
   "metadata": {},
   "outputs": [
    {
     "data": {
      "text/html": [
       "<div>\n",
       "<style scoped>\n",
       "    .dataframe tbody tr th:only-of-type {\n",
       "        vertical-align: middle;\n",
       "    }\n",
       "\n",
       "    .dataframe tbody tr th {\n",
       "        vertical-align: top;\n",
       "    }\n",
       "\n",
       "    .dataframe thead th {\n",
       "        text-align: right;\n",
       "    }\n",
       "</style>\n",
       "<table border=\"1\" class=\"dataframe\">\n",
       "  <thead>\n",
       "    <tr style=\"text-align: right;\">\n",
       "      <th></th>\n",
       "      <th>dem_price</th>\n",
       "      <th>state_abbrev</th>\n",
       "      <th>state</th>\n",
       "    </tr>\n",
       "  </thead>\n",
       "  <tbody>\n",
       "    <tr>\n",
       "      <th>0</th>\n",
       "      <td>0.15</td>\n",
       "      <td>AL</td>\n",
       "      <td>Alabama</td>\n",
       "    </tr>\n",
       "    <tr>\n",
       "      <th>1</th>\n",
       "      <td>0.20</td>\n",
       "      <td>AK</td>\n",
       "      <td>Alaska</td>\n",
       "    </tr>\n",
       "    <tr>\n",
       "      <th>2</th>\n",
       "      <td>0.80</td>\n",
       "      <td>AZ</td>\n",
       "      <td>Arizona</td>\n",
       "    </tr>\n",
       "    <tr>\n",
       "      <th>3</th>\n",
       "      <td>0.10</td>\n",
       "      <td>AR</td>\n",
       "      <td>Arkansas</td>\n",
       "    </tr>\n",
       "    <tr>\n",
       "      <th>4</th>\n",
       "      <td>0.87</td>\n",
       "      <td>CO</td>\n",
       "      <td>Colorado</td>\n",
       "    </tr>\n",
       "  </tbody>\n",
       "</table>\n",
       "</div>"
      ],
      "text/plain": [
       "   dem_price state_abbrev     state\n",
       "0       0.15           AL   Alabama\n",
       "1       0.20           AK    Alaska\n",
       "2       0.80           AZ   Arizona\n",
       "3       0.10           AR  Arkansas\n",
       "4       0.87           CO  Colorado"
      ]
     },
     "execution_count": 8,
     "metadata": {},
     "output_type": "execute_result"
    }
   ],
   "source": [
    "pd.DataFrame(state_prices).head()"
   ]
  },
  {
   "cell_type": "markdown",
   "metadata": {},
   "source": [
    "## Define a simulation of one Senate election outcome"
   ]
  },
  {
   "cell_type": "code",
   "execution_count": 9,
   "metadata": {},
   "outputs": [],
   "source": [
    "def generate_dem_election(log=False):\n",
    "    # 33 dem + 2 dem caucusing independent seats not up for election \n",
    "    dem_votes_tot = 35 \n",
    "    \n",
    "    for state in state_prices:\n",
    "        won = random() < state['dem_price']\n",
    "        dem_votes = 1 if won else 0\n",
    "        dem_votes_tot += dem_votes\n",
    "        \n",
    "        if log:\n",
    "            print(dem_votes, 'in', state)\n",
    "    \n",
    "    return dem_votes_tot     "
   ]
  },
  {
   "cell_type": "code",
   "execution_count": 15,
   "metadata": {},
   "outputs": [],
   "source": [
    "# Test election\n",
    "# generate_dem_election(True)"
   ]
  },
  {
   "cell_type": "markdown",
   "metadata": {},
   "source": [
    "## Run many simulated elections"
   ]
  },
  {
   "cell_type": "code",
   "execution_count": 27,
   "metadata": {},
   "outputs": [
    {
     "data": {
      "image/png": "[encoded data removed]",
      "text/plain": [
       "<Figure size 1080x360 with 1 Axes>"
      ]
     },
     "metadata": {
      "needs_background": "light"
     },
     "output_type": "display_data"
    }
   ],
   "source": [
    "n_elections = 100000\n",
    "\n",
    "election_set = [generate_dem_election() for n in range(n_elections)]\n",
    "wins = len([el for el in election_set if el >= 50]) # Assuming 50-50 and Biden -> Dems gain majority\n",
    "dem_p = wins / len(election_set)\n",
    "rep_p = 1 - dem_p\n",
    "\n",
    "supermajority = len([el for el in election_set if el >= 60]) \n",
    "dem_super_p = supermajority / len(election_set)\n",
    "\n",
    "plt.figure(figsize=(15,5))\n",
    "#plt.xlim((42,58))\n",
    "plt.hist(election_set)\n",
    "plt.axvline(x=50, c='black')\n",
    "plt.axvline(x=60, c='black')\n",
    "plt.title('Democrats Win Probability: %.2d%%, Supermajority P: %.2d%%, Republicans: %.2d%%' % (dem_p*100, dem_super_p * 100, rep_p*100))\n",
    "plt.show()"
   ]
  },
  {
   "cell_type": "code",
   "execution_count": null,
   "metadata": {},
   "outputs": [],
   "source": []
  }
 ],
 "metadata": {
  "kernelspec": {
   "display_name": "Python 3",
   "language": "python",
   "name": "python3"
  },
  "language_info": {
   "codemirror_mode": {
    "name": "ipython",
    "version": 3
   },
   "file_extension": ".py",
   "mimetype": "text/x-python",
   "name": "python",
   "nbconvert_exporter": "python",
   "pygments_lexer": "ipython3",
   "version": "3.7.4"
  }
 },
 "nbformat": 4,
 "nbformat_minor": 4
}

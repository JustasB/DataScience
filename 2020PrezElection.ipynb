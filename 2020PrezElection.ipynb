{
 "cells": [
  {
   "cell_type": "markdown",
   "metadata": {},
   "source": [
    "# 2020 Presidential Election Odds\n",
    "\n",
    "This notebook uses the implied state-by-state election odds from PredictIt.org and performs MonteCarlo simulations of electoral college results. The worksheet should be re-run to get the latest estimate."
   ]
  },
  {
   "cell_type": "markdown",
   "metadata": {},
   "source": [
    "## Imports"
   ]
  },
  {
   "cell_type": "code",
   "execution_count": 1,
   "metadata": {},
   "outputs": [],
   "source": [
    "#!pip install pandas matplotlib"
   ]
  },
  {
   "cell_type": "code",
   "execution_count": 2,
   "metadata": {},
   "outputs": [],
   "source": [
    "import requests\n",
    "import time\n",
    "import urllib.request\n",
    "import json\n",
    "from random import randint, random\n",
    "import re\n",
    "from matplotlib import pyplot as plt\n",
    "import pandas as pd"
   ]
  },
  {
   "cell_type": "markdown",
   "metadata": {},
   "source": [
    "## Store state electoral college votes"
   ]
  },
  {
   "cell_type": "code",
   "execution_count": 3,
   "metadata": {},
   "outputs": [],
   "source": [
    "states = {\n",
    "    'AL': { 'state':'Alabama', 'abbrev': 'AL', 'votes': 9, },\n",
    "    'AK': { 'state':'Alaska', 'abbrev': 'AK', 'votes': 3, },\n",
    "    'AZ': { 'state':'Arizona', 'abbrev': 'AZ', 'votes': 11, },\n",
    "    'AR': { 'state':'Arkansas', 'abbrev': 'AR', 'votes': 6, },\n",
    "    'CA': { 'state':'California', 'abbrev': 'CA', 'votes': 55, },\n",
    "    'CO': { 'state':'Colorado', 'abbrev': 'CO', 'votes': 9, },\n",
    "    'CT': { 'state':'Connecticut', 'abbrev': 'CT', 'votes': 7, },\n",
    "    'DE': { 'state':'Delaware', 'abbrev': 'DE', 'votes': 3, },\n",
    "    'FL': { 'state':'Florida', 'abbrev': 'FL', 'votes': 29, },\n",
    "    'GA': { 'state':'Georgia', 'abbrev': 'GA', 'votes': 16, },\n",
    "    'HI': { 'state':'Hawaii', 'abbrev': 'HI', 'votes': 4, },\n",
    "    'ID': { 'state':'Idaho', 'abbrev': 'ID', 'votes': 4, },\n",
    "    'IL': { 'state':'Illinois', 'abbrev': 'IL', 'votes': 20, },\n",
    "    'IN': { 'state':'Indiana', 'abbrev': 'IN', 'votes': 11, },\n",
    "    'IA': { 'state':'Iowa', 'abbrev': 'IA', 'votes': 6, },\n",
    "    'KS': { 'state':'Kansas', 'abbrev': 'KS', 'votes': 6, },\n",
    "    'KY': { 'state':'Kentucky', 'abbrev': 'KY', 'votes': 8, },\n",
    "    'LA': { 'state':'Louisiana', 'abbrev': 'LA', 'votes': 8, },\n",
    "    'ME': { 'state':'Maine', 'abbrev': 'ME', 'votes': 4, },\n",
    "    'MD': { 'state':'Maryland', 'abbrev': 'MD', 'votes': 10, },\n",
    "    'MA': { 'state':'Massachusetts', 'abbrev': 'MA', 'votes': 11, },\n",
    "    'MI': { 'state':'Michigan', 'abbrev': 'MI', 'votes': 16, },\n",
    "    'MN': { 'state':'Minnesota', 'abbrev': 'MN', 'votes': 10, },\n",
    "    'MS': { 'state':'Mississippi', 'abbrev': 'MS', 'votes': 6, },\n",
    "    'MO': { 'state':'Missouri', 'abbrev': 'MO', 'votes': 10, },\n",
    "    'MT': { 'state':'Montana', 'abbrev': 'MT', 'votes': 3, },\n",
    "    'NE': { 'state':'Nebraska', 'abbrev': 'NE', 'votes': 5, },\n",
    "    'NV': { 'state':'Nevada', 'abbrev': 'NV', 'votes': 6, },\n",
    "    'NH': { 'state':'New Hampshire', 'abbrev': 'NH', 'votes': 4, },\n",
    "    'NJ': { 'state':'New Jersey', 'abbrev': 'NJ', 'votes': 14, },\n",
    "    'NM': { 'state':'New Mexico', 'abbrev': 'NM', 'votes': 5, },\n",
    "    'NY': { 'state':'New York', 'abbrev': 'NY', 'votes': 29, },\n",
    "    'NC': { 'state':'North Carolina', 'abbrev': 'NC', 'votes': 15, },\n",
    "    'ND': { 'state':'North Dakota', 'abbrev': 'ND', 'votes': 3, },\n",
    "    'OH': { 'state':'Ohio', 'abbrev': 'OH', 'votes': 18, },\n",
    "    'OK': { 'state':'Oklahoma', 'abbrev': 'OK', 'votes': 7, },\n",
    "    'OR': { 'state':'Oregon', 'abbrev': 'OR', 'votes': 7, },\n",
    "    'PA': { 'state':'Pennsylvania', 'abbrev': 'PA', 'votes': 20, },\n",
    "    'RI': { 'state':'Rhode Island', 'abbrev': 'RI', 'votes': 4, },\n",
    "    'SC': { 'state':'South Carolina', 'abbrev': 'SC', 'votes': 9, },\n",
    "    'SD': { 'state':'South Dakota', 'abbrev': 'SD', 'votes': 3, },\n",
    "    'TN': { 'state':'Tennessee', 'abbrev': 'TN', 'votes': 11, },\n",
    "    'TX': { 'state':'Texas', 'abbrev': 'TX', 'votes': 38, },\n",
    "    'UT': { 'state':'Utah', 'abbrev': 'UT', 'votes': 6, },\n",
    "    'VT': { 'state':'Vermont', 'abbrev': 'VT', 'votes': 3, },\n",
    "    'VA': { 'state':'Virginia', 'abbrev': 'VA', 'votes': 13, },\n",
    "    'WA': { 'state':'Washington', 'abbrev': 'WA', 'votes': 12, },\n",
    "    'DC': { 'state':'DC', 'abbrev': 'DC', 'votes': 3, },\n",
    "    'WV': { 'state':'West Virginia', 'abbrev': 'WV', 'votes': 5, },\n",
    "    'WI': { 'state':'Wisconsin', 'abbrev': 'WI', 'votes': 10, },\n",
    "    'WY': { 'state':'Wyoming', 'abbrev': 'WY', 'votes': 3, },\n",
    "}"
   ]
  },
  {
   "cell_type": "markdown",
   "metadata": {},
   "source": [
    "## Pull state-by-state odds from PredictIt.org"
   ]
  },
  {
   "cell_type": "code",
   "execution_count": 4,
   "metadata": {},
   "outputs": [],
   "source": [
    "def get_api_response(url):\n",
    "    webURL = urllib.request.urlopen(url)\n",
    "    data = webURL.read()\n",
    "    encoding = webURL.info().get_content_charset('utf-8')\n",
    "    return json.loads(data.decode(encoding))"
   ]
  },
  {
   "cell_type": "code",
   "execution_count": 5,
   "metadata": {},
   "outputs": [],
   "source": [
    "# Below is the url that fetches all state contracts (from PredictIt homepage)\n",
    "url = 'https://www.predictit.org/api/Public/MapData/EC'\n",
    "\n",
    "ec = get_api_response(url)"
   ]
  },
  {
   "cell_type": "markdown",
   "metadata": {},
   "source": [
    "## Extract prices and match with full state names "
   ]
  },
  {
   "cell_type": "code",
   "execution_count": 16,
   "metadata": {},
   "outputs": [],
   "source": [
    "state_prices = []\n",
    "for market in ec:\n",
    "    # Use the Domocratic party contract prices\n",
    "    price = next(contract for contract in market['contracts'] if contract['contractName'] == 'Democratic')['lastClosePrice']\n",
    "    \n",
    "    # Extract the state abbreviation from contract name\n",
    "    state_abbrev = re.match('Which party will win (.+?) ', market['marketName']).groups()[0]\n",
    "    \n",
    "    # Ignore the fractional state contracts NE and MN\n",
    "    try:\n",
    "        state = states[state_abbrev]\n",
    "    except:\n",
    "        continue\n",
    "        \n",
    "    state_prices.append({ \n",
    "        'dem_price': price, \n",
    "        'state_abbrev': state_abbrev, \n",
    "        'state': state['state'], \n",
    "        'votes': state['votes'],\n",
    "    })"
   ]
  },
  {
   "cell_type": "code",
   "execution_count": 7,
   "metadata": {},
   "outputs": [
    {
     "data": {
      "text/html": [
       "<div>\n",
       "<style scoped>\n",
       "    .dataframe tbody tr th:only-of-type {\n",
       "        vertical-align: middle;\n",
       "    }\n",
       "\n",
       "    .dataframe tbody tr th {\n",
       "        vertical-align: top;\n",
       "    }\n",
       "\n",
       "    .dataframe thead th {\n",
       "        text-align: right;\n",
       "    }\n",
       "</style>\n",
       "<table border=\"1\" class=\"dataframe\">\n",
       "  <thead>\n",
       "    <tr style=\"text-align: right;\">\n",
       "      <th></th>\n",
       "      <th>dem_price</th>\n",
       "      <th>state</th>\n",
       "      <th>state_abbrev</th>\n",
       "      <th>votes</th>\n",
       "    </tr>\n",
       "  </thead>\n",
       "  <tbody>\n",
       "    <tr>\n",
       "      <th>0</th>\n",
       "      <td>0.05</td>\n",
       "      <td>West Virginia</td>\n",
       "      <td>WV</td>\n",
       "      <td>5</td>\n",
       "    </tr>\n",
       "    <tr>\n",
       "      <th>1</th>\n",
       "      <td>0.05</td>\n",
       "      <td>Mississippi</td>\n",
       "      <td>MS</td>\n",
       "      <td>6</td>\n",
       "    </tr>\n",
       "    <tr>\n",
       "      <th>2</th>\n",
       "      <td>0.05</td>\n",
       "      <td>Hawaii</td>\n",
       "      <td>HI</td>\n",
       "      <td>4</td>\n",
       "    </tr>\n",
       "    <tr>\n",
       "      <th>3</th>\n",
       "      <td>0.05</td>\n",
       "      <td>Vermont</td>\n",
       "      <td>VT</td>\n",
       "      <td>3</td>\n",
       "    </tr>\n",
       "    <tr>\n",
       "      <th>4</th>\n",
       "      <td>0.05</td>\n",
       "      <td>Washington</td>\n",
       "      <td>WA</td>\n",
       "      <td>12</td>\n",
       "    </tr>\n",
       "  </tbody>\n",
       "</table>\n",
       "</div>"
      ],
      "text/plain": [
       "   dem_price          state state_abbrev  votes\n",
       "0       0.05  West Virginia           WV      5\n",
       "1       0.05    Mississippi           MS      6\n",
       "2       0.05         Hawaii           HI      4\n",
       "3       0.05        Vermont           VT      3\n",
       "4       0.05     Washington           WA     12"
      ]
     },
     "execution_count": 7,
     "metadata": {},
     "output_type": "execute_result"
    }
   ],
   "source": [
    "pd.DataFrame(state_prices).head()"
   ]
  },
  {
   "cell_type": "markdown",
   "metadata": {},
   "source": [
    "## Define a simulation of one national election outcome"
   ]
  },
  {
   "cell_type": "code",
   "execution_count": 8,
   "metadata": {},
   "outputs": [],
   "source": [
    "def generate_dem_election():\n",
    "    dem_votes_tot = 0\n",
    "    for state in state_prices:\n",
    "        won = random() < state['dem_price']\n",
    "        dem_votes = state['votes'] if won else 0\n",
    "        dem_votes_tot += dem_votes\n",
    "\n",
    "    # Assume 0-2 electors will go to Democratic leaning 3rd party candidates\n",
    "    dem_votes_tot -= randint(0, 2)\n",
    "    \n",
    "    return dem_votes_tot     "
   ]
  },
  {
   "cell_type": "markdown",
   "metadata": {},
   "source": [
    "## Run many simulated elections"
   ]
  },
  {
   "cell_type": "code",
   "execution_count": 17,
   "metadata": {},
   "outputs": [
    {
     "data": {
      "image/png": "[encoded data removed]",
      "text/plain": [
       "<Figure size 1080x360 with 1 Axes>"
      ]
     },
     "metadata": {
      "needs_background": "light"
     },
     "output_type": "display_data"
    }
   ],
   "source": [
    "n_elections = 10000\n",
    "\n",
    "election_set = [generate_dem_election() for n in range(n_elections)]\n",
    "wins = len([el for el in election_set if el >= 270])\n",
    "dem_p = wins / len(election_set)\n",
    "rep_p = 1 - dem_p\n",
    "\n",
    "plt.figure(figsize=(15,5))\n",
    "plt.hist(election_set)\n",
    "plt.axvline(x=275, c='black')\n",
    "plt.title('Democrats Win Probability: %.2d%%, Republicans: %.2d%%' % (dem_p*100, rep_p*100))\n",
    "plt.show()"
   ]
  },
  {
   "cell_type": "code",
   "execution_count": null,
   "metadata": {},
   "outputs": [],
   "source": []
  }
 ],
 "metadata": {
  "kernelspec": {
   "display_name": "Python 3",
   "language": "python",
   "name": "python3"
  },
  "language_info": {
   "codemirror_mode": {
    "name": "ipython",
    "version": 3
   },
   "file_extension": ".py",
   "mimetype": "text/x-python",
   "name": "python",
   "nbconvert_exporter": "python",
   "pygments_lexer": "ipython3",
   "version": "3.5.6"
  }
 },
 "nbformat": 4,
 "nbformat_minor": 4
}
